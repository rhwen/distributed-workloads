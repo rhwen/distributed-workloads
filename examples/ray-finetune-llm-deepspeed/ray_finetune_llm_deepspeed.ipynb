{
 "cells": [
  {
   "cell_type": "code",
   "execution_count": 1,
   "id": "204a90fb-da94-426a-8c0c-3a0c61b01086",
   "metadata": {
    "tags": []
   },
   "outputs": [],
   "source": [
    "from codeflare_sdk.cluster.cluster import Cluster, ClusterConfiguration\n",
    "from codeflare_sdk.cluster.auth import TokenAuthentication\n",
    "import os\n",
    "import sys"
   ]
  },
  {
   "cell_type": "code",
   "execution_count": 3,
   "id": "fc30c26b-d439-4d74-b3fe-d9e84db29a1b",
   "metadata": {
    "tags": []
   },
   "outputs": [
    {
     "name": "stdout",
     "output_type": "stream",
     "text": [
      "\n",
      "\u001b[1m[\u001b[0m\u001b[34;49mnotice\u001b[0m\u001b[1;39;49m]\u001b[0m\u001b[39;49m A new release of pip available: \u001b[0m\u001b[31;49m22.2.2\u001b[0m\u001b[39;49m -> \u001b[0m\u001b[32;49m24.3.1\u001b[0m\n",
      "\u001b[1m[\u001b[0m\u001b[34;49mnotice\u001b[0m\u001b[1;39;49m]\u001b[0m\u001b[39;49m To update, run: \u001b[0m\u001b[32;49mpip install --upgrade pip\u001b[0m\n"
     ]
    }
   ],
   "source": [
    "# Create the training and evaluation datasets.\n",
    "# This can be run only once.\n",
    "!{sys.executable} -m pip install -q datasets\n",
    "import create_dataset\n",
    "create_dataset.gsm8k_qa_no_tokens_template()"
   ]
  },
  {
   "cell_type": "code",
   "execution_count": 4,
   "id": "11003df0-76d4-4de1-97fa-3f49c4849b0e",
   "metadata": {
    "tags": []
   },
   "outputs": [
    {
     "data": {
      "text/plain": [
       "'0.19.1'"
      ]
     },
     "execution_count": 4,
     "metadata": {},
     "output_type": "execute_result"
    }
   ],
   "source": [
    "import importlib.metadata\n",
    "importlib.metadata.version('codeflare_sdk')"
   ]
  },
  {
   "cell_type": "code",
   "execution_count": 5,
   "id": "440b98a3-8ed3-4072-9cc2-763d0e6c6f00",
   "metadata": {
    "tags": []
   },
   "outputs": [
    {
     "name": "stdout",
     "output_type": "stream",
     "text": [
      "Authenticated with certificate located at /etc/pki/tls/custom-certs/ca-bundle.crt\n"
     ]
    },
    {
     "data": {
      "text/plain": [
       "'Logged into https://api.cluster-6jmjb.6jmjb.sandbox1479.opentlc.com:6443'"
      ]
     },
     "execution_count": 5,
     "metadata": {},
     "output_type": "execute_result"
    }
   ],
   "source": [
    "# Authenticate the CodeFlare SDK\n",
    "# On OpenShift, you can retrieve the token by running `oc whoami -t`,\n",
    "# and the server with `oc cluster-info`.\n",
    "auth = TokenAuthentication(\n",
    "    token = 'sha256~vgNGHEFKFxuMPXuSxNJ8If0nC1kcmBveIXQsRbfa0tI',\n",
    "    server = 'https://api.cluster-6jmjb.6jmjb.sandbox1479.opentlc.com:6443',\n",
    "    skip_tls=False\n",
    ")\n",
    "auth.login()"
   ]
  },
  {
   "cell_type": "code",
   "execution_count": 33,
   "id": "4d340f86-1a04-48d3-a5e7-067faecfc17a",
   "metadata": {
    "tags": []
   },
   "outputs": [
    {
     "name": "stdout",
     "output_type": "stream",
     "text": [
      "Yaml resources loaded for ray\n"
     ]
    }
   ],
   "source": [
    "# Configure the Ray cluster\n",
    "cluster = Cluster(ClusterConfiguration(\n",
    "    name='ray',\n",
    "    namespace='ray-finetune-llm-deepspeed',\n",
    "    num_workers=4,\n",
    "    worker_cpu_requests=2,\n",
    "    worker_cpu_limits=2,\n",
    "    head_cpus=2,\n",
    "    worker_memory_requests=8,\n",
    "    worker_memory_limits=8,\n",
    "    head_memory=8,\n",
    "    # Use the following parameters with NVIDIA GPUs\n",
    "    # Ensure the Python version in the notebook image matches the version used in the Ray cluster to avoid compatibility issues\n",
    "    image=\"quay.io/rhoai/ray:2.35.0-py311-cu121-torch24-fa26\",\n",
    "    head_extended_resource_requests={'nvidia.com/gpu':1},\n",
    "    worker_extended_resource_requests={'nvidia.com/gpu':1},\n",
    "    # Or replace them with these parameters for AMD GPUs\n",
    "    # image=\"quay.io/rhoai/ray:2.35.0-py311-rocm61-torch24-fa26\",\n",
    "    # head_extended_resource_requests={'amd.com/gpu':1},\n",
    "    # worker_extended_resource_requests={'amd.com/gpu':1},\n",
    "))"
   ]
  },
  {
   "cell_type": "code",
   "execution_count": 34,
   "id": "cee11013-8646-4cda-94a2-f8e731baa1ca",
   "metadata": {
    "tags": []
   },
   "outputs": [],
   "source": [
    "# Create the Ray cluster\n",
    "cluster.up()"
   ]
  },
  {
   "cell_type": "code",
   "execution_count": 35,
   "id": "709a09df-3871-4791-9763-5dcdc081bec4",
   "metadata": {
    "tags": []
   },
   "outputs": [
    {
     "name": "stdout",
     "output_type": "stream",
     "text": [
      "Waiting for requested resources to be set up...\n",
      "Requested cluster is up and running!\n",
      "Dashboard is ready!\n"
     ]
    }
   ],
   "source": [
    "cluster.wait_ready()"
   ]
  },
  {
   "cell_type": "code",
   "execution_count": 36,
   "id": "24ccda92-a0f0-4845-a13c-6aa735e75d5a",
   "metadata": {
    "tags": []
   },
   "outputs": [
    {
     "data": {
      "text/html": [
       "<pre style=\"white-space:pre;overflow-x:auto;line-height:normal;font-family:Menlo,'DejaVu Sans Mono',consolas,'Courier New',monospace\"><span style=\"font-style: italic\">                        </span><span style=\"font-weight: bold; font-style: italic\"> 🚀 CodeFlare Cluster Details 🚀</span><span style=\"font-style: italic\">                         </span>\n",
       "<span style=\"font-weight: bold\">                                                                                 </span>\n",
       " ╭─────────────────────────────────────────────────────────────────────────────╮ \n",
       " │   <span style=\"color: #c0c0c0; text-decoration-color: #c0c0c0; background-color: #008000; font-weight: bold\">Name</span>                                                                      │ \n",
       " │   <span style=\"font-weight: bold; text-decoration: underline\">ray</span>                                                           Active ✅   │ \n",
       " │                                                                             │ \n",
       " │   <span style=\"font-weight: bold\">URI:</span> ray://ray-head-svc.ray-finetune-llm-deepspeed.svc:10001              │ \n",
       " │                                                                             │ \n",
       " │   <a href=\"https://ray-dashboard-ray-ray-finetune-llm-deepspeed.apps.cluster-6jmjb.6jmjb.sandbox1479.opentlc.com\" target=\"_blank\"><span style=\"color: #000080; text-decoration-color: #000080; text-decoration: underline\">Dashboard🔗</span></a>                                                               │ \n",
       " │                                                                             │ \n",
       " │  <span style=\"font-style: italic\">                     Cluster Resources                     </span>                │ \n",
       " │   ╭── Workers ──╮  ╭───────── Worker specs(each) ─────────╮                 │ \n",
       " │   │ <span style=\"font-weight: bold\"> # Workers </span> │  │ <span style=\"font-weight: bold\"> Memory      CPU         GPU        </span> │                 │ \n",
       " │   │ <span style=\"color: #800080; text-decoration-color: #800080\">           </span> │  │ <span style=\"color: #008080; text-decoration-color: #008080\">            </span><span style=\"color: #800080; text-decoration-color: #800080\">                        </span> │                 │ \n",
       " │   │ <span style=\"color: #800080; text-decoration-color: #800080\"> 4         </span> │  │ <span style=\"color: #008080; text-decoration-color: #008080\"> 8G~8G      </span><span style=\"color: #800080; text-decoration-color: #800080\"> 2           1          </span> │                 │ \n",
       " │   │ <span style=\"color: #800080; text-decoration-color: #800080\">           </span> │  │ <span style=\"color: #008080; text-decoration-color: #008080\">            </span><span style=\"color: #800080; text-decoration-color: #800080\">                        </span> │                 │ \n",
       " │   ╰─────────────╯  ╰──────────────────────────────────────╯                 │ \n",
       " ╰─────────────────────────────────────────────────────────────────────────────╯ \n",
       "</pre>\n"
      ],
      "text/plain": [
       "\u001b[3m                        \u001b[0m\u001b[1;3m 🚀 CodeFlare Cluster Details 🚀\u001b[0m\u001b[3m                         \u001b[0m\n",
       "\u001b[1m \u001b[0m\u001b[1m                                                                               \u001b[0m\u001b[1m \u001b[0m\n",
       " ╭─────────────────────────────────────────────────────────────────────────────╮ \n",
       " │   \u001b[1;37;42mName\u001b[0m                                                                      │ \n",
       " │   \u001b[1;4mray\u001b[0m                                                           Active ✅   │ \n",
       " │                                                                             │ \n",
       " │   \u001b[1mURI:\u001b[0m ray://ray-head-svc.ray-finetune-llm-deepspeed.svc:10001              │ \n",
       " │                                                                             │ \n",
       " │   \u001b]8;id=973045;https://ray-dashboard-ray-ray-finetune-llm-deepspeed.apps.cluster-6jmjb.6jmjb.sandbox1479.opentlc.com\u001b\\\u001b[4;34mDashboard🔗\u001b[0m\u001b]8;;\u001b\\                                                               │ \n",
       " │                                                                             │ \n",
       " │  \u001b[3m                     Cluster Resources                     \u001b[0m                │ \n",
       " │   ╭── Workers ──╮  ╭───────── Worker specs(each) ─────────╮                 │ \n",
       " │   │ \u001b[1m \u001b[0m\u001b[1m# Workers\u001b[0m\u001b[1m \u001b[0m │  │ \u001b[1m \u001b[0m\u001b[1mMemory    \u001b[0m\u001b[1m \u001b[0m\u001b[1m \u001b[0m\u001b[1mCPU       \u001b[0m\u001b[1m \u001b[0m\u001b[1m \u001b[0m\u001b[1mGPU       \u001b[0m\u001b[1m \u001b[0m │                 │ \n",
       " │   │ \u001b[35m \u001b[0m\u001b[35m         \u001b[0m\u001b[35m \u001b[0m │  │ \u001b[36m \u001b[0m\u001b[36m          \u001b[0m\u001b[36m \u001b[0m\u001b[35m \u001b[0m\u001b[35m          \u001b[0m\u001b[35m \u001b[0m\u001b[35m \u001b[0m\u001b[35m          \u001b[0m\u001b[35m \u001b[0m │                 │ \n",
       " │   │ \u001b[35m \u001b[0m\u001b[35m4        \u001b[0m\u001b[35m \u001b[0m │  │ \u001b[36m \u001b[0m\u001b[36m8G~8G     \u001b[0m\u001b[36m \u001b[0m\u001b[35m \u001b[0m\u001b[35m2         \u001b[0m\u001b[35m \u001b[0m\u001b[35m \u001b[0m\u001b[35m1         \u001b[0m\u001b[35m \u001b[0m │                 │ \n",
       " │   │ \u001b[35m \u001b[0m\u001b[35m         \u001b[0m\u001b[35m \u001b[0m │  │ \u001b[36m \u001b[0m\u001b[36m          \u001b[0m\u001b[36m \u001b[0m\u001b[35m \u001b[0m\u001b[35m          \u001b[0m\u001b[35m \u001b[0m\u001b[35m \u001b[0m\u001b[35m          \u001b[0m\u001b[35m \u001b[0m │                 │ \n",
       " │   ╰─────────────╯  ╰──────────────────────────────────────╯                 │ \n",
       " ╰─────────────────────────────────────────────────────────────────────────────╯ \n"
      ]
     },
     "metadata": {},
     "output_type": "display_data"
    },
    {
     "data": {
      "text/plain": [
       "RayCluster(name='ray', status=<RayClusterStatus.READY: 'ready'>, head_cpus=2, head_mem='8G', workers=4, worker_mem_min='8G', worker_mem_max='8G', worker_cpu=2, namespace='ray-finetune-llm-deepspeed', dashboard='https://ray-dashboard-ray-ray-finetune-llm-deepspeed.apps.cluster-6jmjb.6jmjb.sandbox1479.opentlc.com', worker_extended_resources={'nvidia.com/gpu': 1}, head_extended_resources={'nvidia.com/gpu': 1})"
      ]
     },
     "execution_count": 36,
     "metadata": {},
     "output_type": "execute_result"
    }
   ],
   "source": [
    "cluster.details()"
   ]
  },
  {
   "cell_type": "code",
   "execution_count": 37,
   "id": "fb29e733-eac5-4f3d-bbfa-543e8ee7fd1b",
   "metadata": {
    "tags": []
   },
   "outputs": [],
   "source": [
    "# Initialize the Job Submission Client\n",
    "client = cluster.job_client"
   ]
  },
  {
   "cell_type": "code",
   "execution_count": 38,
   "id": "086f3337",
   "metadata": {
    "tags": []
   },
   "outputs": [],
   "source": [
    "# The S3 bucket where to store checkpoint.\n",
    "# It can be set manually, otherwise it's retrieved from configured the data connection.\n",
    "s3_bucket = 'ray-fintune-llm'\n",
    "if not s3_bucket:\n",
    "    s3_bucket = os.environ.get('AWS_S3_BUCKET')\n",
    "assert s3_bucket, \"An S3 bucket must be provided to store checkpoints\""
   ]
  },
  {
   "cell_type": "code",
   "execution_count": 45,
   "id": "ae2be5d8-66c7-46e2-ba3b-fa2f8a03b27f",
   "metadata": {
    "tags": []
   },
   "outputs": [
    {
     "name": "stderr",
     "output_type": "stream",
     "text": [
      "2024-11-20 05:40:39,459\tINFO dashboard_sdk.py:385 -- Package gcs://_ray_pkg_f27301d602772ea4.zip already exists, skipping upload.\n"
     ]
    },
    {
     "name": "stdout",
     "output_type": "stream",
     "text": [
      "raysubmit_CJhsDPMZuSmbw9ZV\n"
     ]
    }
   ],
   "source": [
    "submission_id = client.submit_job(\n",
    "    entrypoint=\"python ray_finetune_llm_deepspeed.py \"\n",
    "               \"--model-name=meta-llama/Llama-3.2-1B \"\n",
    "               \"--lora \"\n",
    "               \"--num-devices=4 \"\n",
    "               \"--num-epochs=3 \"\n",
    "               \"--ds-config=./deepspeed_configs/zero_3_offload_optim_param.json \"\n",
    "               f\"--storage-path=s3://{s3_bucket}/ray_finetune_llm_deepspeed/ \"\n",
    "               \"--batch-size-per-device=4 \"\n",
    "               \"--eval-batch-size-per-device=4 \",\n",
    "    runtime_env={\n",
    "        \"env_vars\": {\n",
    "            'AWS_ENDPOINT_URL': 'http://minio.ic-shared-minio.svc:9000',\n",
    "            'AWS_ACCESS_KEY_ID': 'minio',# os.environ.get('AWS_ACCESS_KEY_ID'),\n",
    "            'AWS_SECRET_ACCESS_KEY': 'minio123', # os.environ.get('AWS_SECRET_ACCESS_KEY'),\n",
    "            'AWS_DEFAULT_REGION': 'us-east-1'#os.environ.get('AWS_DEFAULT_REGION')\n",
    "        },\n",
    "        'pip': 'requirements.txt',\n",
    "        'working_dir': './',\n",
    "        \"excludes\": [\"/docs/\", \"*.ipynb\", \"*.md\"]\n",
    "    },\n",
    ")\n",
    "print(submission_id)"
   ]
  },
  {
   "cell_type": "code",
   "execution_count": null,
   "id": "8476f19b-1d51-44f5-8889-c5b01ed36343",
   "metadata": {
    "tags": []
   },
   "outputs": [],
   "source": [
    "client.stop_job(submission_id)"
   ]
  },
  {
   "cell_type": "code",
   "execution_count": 32,
   "id": "f456f161-5122-4057-a5ac-f7f6b38651ec",
   "metadata": {
    "tags": []
   },
   "outputs": [],
   "source": [
    "cluster.down()"
   ]
  },
  {
   "cell_type": "code",
   "execution_count": null,
   "id": "ccce4dc8-d09f-4be9-9b78-70c371e68b9f",
   "metadata": {},
   "outputs": [],
   "source": []
  }
 ],
 "metadata": {
  "kernelspec": {
   "display_name": "Python 3.9",
   "language": "python",
   "name": "python3"
  },
  "language_info": {
   "codemirror_mode": {
    "name": "ipython",
    "version": 3
   },
   "file_extension": ".py",
   "mimetype": "text/x-python",
   "name": "python",
   "nbconvert_exporter": "python",
   "pygments_lexer": "ipython3",
   "version": "3.9.16"
  }
 },
 "nbformat": 4,
 "nbformat_minor": 5
}
